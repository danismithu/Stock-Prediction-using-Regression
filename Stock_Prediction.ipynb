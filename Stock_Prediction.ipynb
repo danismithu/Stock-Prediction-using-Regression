{
  "nbformat": 4,
  "nbformat_minor": 0,
  "metadata": {
    "colab": {
      "name": "Stock Prediction.ipynb",
      "version": "0.3.2",
      "provenance": []
    },
    "kernelspec": {
      "name": "python3",
      "display_name": "Python 3"
    }
  },
  "cells": [
    {
      "cell_type": "markdown",
      "metadata": {
        "id": "_AJXi1VMqfz1",
        "colab_type": "text"
      },
      "source": [
        "# Stock Prediction using Linear Regression, Ridge and Lasso"
      ]
    },
    {
      "cell_type": "code",
      "metadata": {
        "id": "olJtSBeueol6",
        "colab_type": "code",
        "colab": {}
      },
      "source": [
        "import datetime\n",
        "from time import sleep\n",
        "import math\n",
        "import numpy as np\n",
        "import matplotlib.pyplot as plt\n",
        "\n",
        "import pandas_datareader.data as web\n",
        "import pandas as pd\n",
        "\n",
        "from sklearn import preprocessing\n",
        "from sklearn.linear_model import LinearRegression, Ridge, Lasso\n",
        "from sklearn.model_selection import train_test_split"
      ],
      "execution_count": 0,
      "outputs": []
    },
    {
      "cell_type": "markdown",
      "metadata": {
        "id": "J0jlti7drosm",
        "colab_type": "text"
      },
      "source": [
        "### Data initialisation"
      ]
    },
    {
      "cell_type": "code",
      "metadata": {
        "id": "dln6y4LUq7zO",
        "colab_type": "code",
        "colab": {}
      },
      "source": [
        "# This should be the first day you want to analize based on IPO for example\n",
        "start_date = datetime.datetime(2011, 2, 16)\n",
        "# Analize stock until today\n",
        "end_date = datetime.datetime.today()\n",
        "# Stock name to analize\n",
        "stock_name = 'SFTBY'"
      ],
      "execution_count": 0,
      "outputs": []
    },
    {
      "cell_type": "markdown",
      "metadata": {
        "id": "vKf7aYUivOoA",
        "colab_type": "text"
      },
      "source": [
        "### Data read from Yahoo Finance"
      ]
    },
    {
      "cell_type": "code",
      "metadata": {
        "id": "O7r7X-1avVDz",
        "colab_type": "code",
        "colab": {
          "base_uri": "https://localhost:8080/",
          "height": 235
        },
        "outputId": "c6e74095-3b71-41f0-e691-2eb6646f9e65"
      },
      "source": [
        "df = pd.DataFrame()\n",
        "try:\n",
        "    df = web.DataReader(stock_name, 'yahoo', start_date, end_date)\n",
        "except Exception:\n",
        "    sleep(1)\n",
        "   \n",
        "df.tail()"
      ],
      "execution_count": 111,
      "outputs": [
        {
          "output_type": "execute_result",
          "data": {
            "text/html": [
              "<div>\n",
              "<style scoped>\n",
              "    .dataframe tbody tr th:only-of-type {\n",
              "        vertical-align: middle;\n",
              "    }\n",
              "\n",
              "    .dataframe tbody tr th {\n",
              "        vertical-align: top;\n",
              "    }\n",
              "\n",
              "    .dataframe thead th {\n",
              "        text-align: right;\n",
              "    }\n",
              "</style>\n",
              "<table border=\"1\" class=\"dataframe\">\n",
              "  <thead>\n",
              "    <tr style=\"text-align: right;\">\n",
              "      <th></th>\n",
              "      <th>High</th>\n",
              "      <th>Low</th>\n",
              "      <th>Open</th>\n",
              "      <th>Close</th>\n",
              "      <th>Volume</th>\n",
              "      <th>Adj Close</th>\n",
              "    </tr>\n",
              "    <tr>\n",
              "      <th>Date</th>\n",
              "      <th></th>\n",
              "      <th></th>\n",
              "      <th></th>\n",
              "      <th></th>\n",
              "      <th></th>\n",
              "      <th></th>\n",
              "    </tr>\n",
              "  </thead>\n",
              "  <tbody>\n",
              "    <tr>\n",
              "      <th>2019-08-30</th>\n",
              "      <td>22.790001</td>\n",
              "      <td>22.549999</td>\n",
              "      <td>22.790001</td>\n",
              "      <td>22.650000</td>\n",
              "      <td>555400.0</td>\n",
              "      <td>22.650000</td>\n",
              "    </tr>\n",
              "    <tr>\n",
              "      <th>2019-09-03</th>\n",
              "      <td>22.379999</td>\n",
              "      <td>22.110001</td>\n",
              "      <td>22.110001</td>\n",
              "      <td>22.200001</td>\n",
              "      <td>525400.0</td>\n",
              "      <td>22.200001</td>\n",
              "    </tr>\n",
              "    <tr>\n",
              "      <th>2019-09-04</th>\n",
              "      <td>22.450001</td>\n",
              "      <td>22.280001</td>\n",
              "      <td>22.320000</td>\n",
              "      <td>22.370001</td>\n",
              "      <td>1255600.0</td>\n",
              "      <td>22.370001</td>\n",
              "    </tr>\n",
              "    <tr>\n",
              "      <th>2019-09-05</th>\n",
              "      <td>22.559999</td>\n",
              "      <td>22.080000</td>\n",
              "      <td>22.400000</td>\n",
              "      <td>22.180000</td>\n",
              "      <td>1529700.0</td>\n",
              "      <td>22.180000</td>\n",
              "    </tr>\n",
              "    <tr>\n",
              "      <th>2019-09-06</th>\n",
              "      <td>21.969999</td>\n",
              "      <td>21.309999</td>\n",
              "      <td>21.969999</td>\n",
              "      <td>21.480000</td>\n",
              "      <td>1132400.0</td>\n",
              "      <td>21.480000</td>\n",
              "    </tr>\n",
              "  </tbody>\n",
              "</table>\n",
              "</div>"
            ],
            "text/plain": [
              "                 High        Low       Open      Close     Volume  Adj Close\n",
              "Date                                                                        \n",
              "2019-08-30  22.790001  22.549999  22.790001  22.650000   555400.0  22.650000\n",
              "2019-09-03  22.379999  22.110001  22.110001  22.200001   525400.0  22.200001\n",
              "2019-09-04  22.450001  22.280001  22.320000  22.370001  1255600.0  22.370001\n",
              "2019-09-05  22.559999  22.080000  22.400000  22.180000  1529700.0  22.180000\n",
              "2019-09-06  21.969999  21.309999  21.969999  21.480000  1132400.0  21.480000"
            ]
          },
          "metadata": {
            "tags": []
          },
          "execution_count": 111
        }
      ]
    },
    {
      "cell_type": "code",
      "metadata": {
        "id": "kQUNeLnOyOqZ",
        "colab_type": "code",
        "colab": {
          "base_uri": "https://localhost:8080/",
          "height": 235
        },
        "outputId": "8082bf0a-7b56-4a06-ee51-bafdf6c21ab2"
      },
      "source": [
        "# We will use the Adj Close price and Volume as features to predict the stock price\n",
        "df_reg = df.loc[:,['Adj Close', 'Volume']]\n",
        "# And also create the features High Low Percentage and Percentage Change\n",
        "df_reg['HL_PCT'] = (df['High'] - df['Low']) / df['Close'] * 100.0\n",
        "df_reg['PCT_change'] = (df['Close'] - df['Open']) / df['Open'] * 100.0\n",
        "df_reg.tail()"
      ],
      "execution_count": 112,
      "outputs": [
        {
          "output_type": "execute_result",
          "data": {
            "text/html": [
              "<div>\n",
              "<style scoped>\n",
              "    .dataframe tbody tr th:only-of-type {\n",
              "        vertical-align: middle;\n",
              "    }\n",
              "\n",
              "    .dataframe tbody tr th {\n",
              "        vertical-align: top;\n",
              "    }\n",
              "\n",
              "    .dataframe thead th {\n",
              "        text-align: right;\n",
              "    }\n",
              "</style>\n",
              "<table border=\"1\" class=\"dataframe\">\n",
              "  <thead>\n",
              "    <tr style=\"text-align: right;\">\n",
              "      <th></th>\n",
              "      <th>Adj Close</th>\n",
              "      <th>Volume</th>\n",
              "      <th>HL_PCT</th>\n",
              "      <th>PCT_change</th>\n",
              "    </tr>\n",
              "    <tr>\n",
              "      <th>Date</th>\n",
              "      <th></th>\n",
              "      <th></th>\n",
              "      <th></th>\n",
              "      <th></th>\n",
              "    </tr>\n",
              "  </thead>\n",
              "  <tbody>\n",
              "    <tr>\n",
              "      <th>2019-08-30</th>\n",
              "      <td>22.650000</td>\n",
              "      <td>555400.0</td>\n",
              "      <td>1.059610</td>\n",
              "      <td>-0.614310</td>\n",
              "    </tr>\n",
              "    <tr>\n",
              "      <th>2019-09-03</th>\n",
              "      <td>22.200001</td>\n",
              "      <td>525400.0</td>\n",
              "      <td>1.216210</td>\n",
              "      <td>0.407056</td>\n",
              "    </tr>\n",
              "    <tr>\n",
              "      <th>2019-09-04</th>\n",
              "      <td>22.370001</td>\n",
              "      <td>1255600.0</td>\n",
              "      <td>0.759947</td>\n",
              "      <td>0.224019</td>\n",
              "    </tr>\n",
              "    <tr>\n",
              "      <th>2019-09-05</th>\n",
              "      <td>22.180000</td>\n",
              "      <td>1529700.0</td>\n",
              "      <td>2.164110</td>\n",
              "      <td>-0.982140</td>\n",
              "    </tr>\n",
              "    <tr>\n",
              "      <th>2019-09-06</th>\n",
              "      <td>21.480000</td>\n",
              "      <td>1132400.0</td>\n",
              "      <td>3.072625</td>\n",
              "      <td>-2.230313</td>\n",
              "    </tr>\n",
              "  </tbody>\n",
              "</table>\n",
              "</div>"
            ],
            "text/plain": [
              "            Adj Close     Volume    HL_PCT  PCT_change\n",
              "Date                                                  \n",
              "2019-08-30  22.650000   555400.0  1.059610   -0.614310\n",
              "2019-09-03  22.200001   525400.0  1.216210    0.407056\n",
              "2019-09-04  22.370001  1255600.0  0.759947    0.224019\n",
              "2019-09-05  22.180000  1529700.0  2.164110   -0.982140\n",
              "2019-09-06  21.480000  1132400.0  3.072625   -2.230313"
            ]
          },
          "metadata": {
            "tags": []
          },
          "execution_count": 112
        }
      ]
    },
    {
      "cell_type": "markdown",
      "metadata": {
        "id": "EHHzvqeSz_T4",
        "colab_type": "text"
      },
      "source": [
        "## Training and Preprocessing"
      ]
    },
    {
      "cell_type": "code",
      "metadata": {
        "id": "WqdP-cN-0BsQ",
        "colab_type": "code",
        "colab": {
          "base_uri": "https://localhost:8080/",
          "height": 578
        },
        "outputId": "716cf1a2-d7c5-4565-e0e3-70deaca66983"
      },
      "source": [
        "# Exclude 1% of the last days of data to use it as reference for testing\n",
        "forecast_data = int(math.ceil(0.01 * len(df_reg)))\n",
        "df_reg['Predict'] = df_reg['Adj Close'].shift(-forecast_data)\n",
        "X = np.array(df_reg.drop(['Predict'], 1))\n",
        "Y = np.array(df_reg['Predict'])\n",
        "\n",
        "# Normalization of data\n",
        "X = preprocessing.scale(X)\n",
        "\n",
        "# Set the training and testing data\n",
        "X_test = X[-forecast_data:]\n",
        "X_train = X[:-forecast_data]\n",
        "\n",
        "Y_test = Y[-forecast_data:]\n",
        "Y_train = Y[:-forecast_data]\n",
        "\n",
        "X_test, X_train, Y_test, Y_train"
      ],
      "execution_count": 89,
      "outputs": [
        {
          "output_type": "execute_result",
          "data": {
            "text/plain": [
              "(array([[ 2.01572417,  0.68042591,  2.74684863,  2.0766097 ],\n",
              "        [ 1.77194853,  2.27451898,  0.81871857,  1.10911631],\n",
              "        [ 1.61888032,  0.3775659 , -0.25125219, -0.6863657 ],\n",
              "        [ 1.56029835,  0.03854756, -0.30755319, -0.47038954],\n",
              "        [ 1.61321099,  0.54014246,  0.85946265,  1.3449094 ],\n",
              "        [ 1.48659891,  0.44553269, -0.00526833, -1.08110382],\n",
              "        [ 1.60565225,  0.51227607, -0.31760121, -0.09477389],\n",
              "        [ 1.59620337,  0.23469971,  0.6241133 ,  0.62196997],\n",
              "        [ 1.59620337,  0.0087781 ,  0.03249335, -0.16954561],\n",
              "        [ 1.53006267,  0.02155586, -0.23007222, -1.07137171],\n",
              "        [ 1.42801731,  0.48903143, -0.38553094, -0.90404376],\n",
              "        [ 1.33164092,  0.93489357,  0.6718915 , -2.04045549],\n",
              "        [ 1.19935951,  2.45164043,  2.30390546, -2.68754465],\n",
              "        [ 1.27494909,  0.51485881, -0.23918444,  0.31057798],\n",
              "        [ 1.3221924 ,  0.6034875 ,  0.41665793, -1.08076115],\n",
              "        [ 1.33542047,  0.13397293,  0.11536537,  0.95138854],\n",
              "        [ 1.38833274,  0.19351183, -0.19442546,  0.69758058],\n",
              "        [ 1.45447345,  0.11507816, -0.42706914, -0.6326373 ],\n",
              "        [ 1.36943571,  0.07429809, -0.29954131,  0.26162699],\n",
              "        [ 1.40156117,  1.06688507, -0.6711019 ,  0.10136786],\n",
              "        [ 1.36565616,  1.43947901,  0.472387  , -0.954693  ],\n",
              "        [ 1.23337475,  0.8994149 ,  1.21224211, -2.0475395 ]]),\n",
              " array([[-1.2599853 , -0.63745013, -0.82917637, -0.58740871],\n",
              "        [-1.26884505, -0.63581892,  1.11139032,  1.42592953],\n",
              "        [-1.21488047, -0.63174092,  2.78181186, -0.09477389],\n",
              "        ...,\n",
              "        [ 2.00249574,  0.68898973,  0.43117194, -1.27795995],\n",
              "        [ 1.8437582 ,  2.02698393,  0.6215102 , -0.93699864],\n",
              "        [ 1.81919184,  1.55842089,  0.49909957, -0.41419115]]),\n",
              " array([nan, nan, nan, nan, nan, nan, nan, nan, nan, nan, nan, nan, nan,\n",
              "        nan, nan, nan, nan, nan, nan, nan, nan, nan]),\n",
              " array([ 7.97034407,  8.14083385,  7.86805201, ..., 22.37000084,\n",
              "        22.18000031, 21.47999954]))"
            ]
          },
          "metadata": {
            "tags": []
          },
          "execution_count": 89
        }
      ]
    },
    {
      "cell_type": "markdown",
      "metadata": {
        "id": "G1cLQo704JQW",
        "colab_type": "text"
      },
      "source": [
        "## Predicting"
      ]
    },
    {
      "cell_type": "markdown",
      "metadata": {
        "id": "AQ1n1Ep14QOV",
        "colab_type": "text"
      },
      "source": [
        "### Linear Regression"
      ]
    },
    {
      "cell_type": "code",
      "metadata": {
        "id": "l2KiegHW4MN8",
        "colab_type": "code",
        "colab": {
          "base_uri": "https://localhost:8080/",
          "height": 34
        },
        "outputId": "d115baa4-01f0-46ba-e836-ae84e5e99a63"
      },
      "source": [
        "lnr = LinearRegression(n_jobs=-1)\n",
        "lnr.fit(X_train, Y_train)"
      ],
      "execution_count": 90,
      "outputs": [
        {
          "output_type": "execute_result",
          "data": {
            "text/plain": [
              "LinearRegression(copy_X=True, fit_intercept=True, n_jobs=-1, normalize=False)"
            ]
          },
          "metadata": {
            "tags": []
          },
          "execution_count": 90
        }
      ]
    },
    {
      "cell_type": "markdown",
      "metadata": {
        "id": "JuzLlnvU4bG1",
        "colab_type": "text"
      },
      "source": [
        "### Ridge"
      ]
    },
    {
      "cell_type": "code",
      "metadata": {
        "id": "e4Q79_Jd4eVh",
        "colab_type": "code",
        "colab": {
          "base_uri": "https://localhost:8080/",
          "height": 51
        },
        "outputId": "b8f8b384-abb5-4f67-c9ec-a71dff335624"
      },
      "source": [
        "rdg = Ridge(alpha=0.5)\n",
        "rdg.fit(X_train, Y_train)"
      ],
      "execution_count": 91,
      "outputs": [
        {
          "output_type": "execute_result",
          "data": {
            "text/plain": [
              "Ridge(alpha=0.5, copy_X=True, fit_intercept=True, max_iter=None,\n",
              "      normalize=False, random_state=None, solver='auto', tol=0.001)"
            ]
          },
          "metadata": {
            "tags": []
          },
          "execution_count": 91
        }
      ]
    },
    {
      "cell_type": "markdown",
      "metadata": {
        "id": "7R0MVgBw4kt6",
        "colab_type": "text"
      },
      "source": [
        "### Lasso"
      ]
    },
    {
      "cell_type": "code",
      "metadata": {
        "id": "fTRehXox4mnl",
        "colab_type": "code",
        "colab": {
          "base_uri": "https://localhost:8080/",
          "height": 68
        },
        "outputId": "ac87ef71-772f-4c23-b859-62ea767affb6"
      },
      "source": [
        "lasso = Lasso(alpha=0.1)\n",
        "lasso.fit(X_train, Y_train)"
      ],
      "execution_count": 92,
      "outputs": [
        {
          "output_type": "execute_result",
          "data": {
            "text/plain": [
              "Lasso(alpha=0.1, copy_X=True, fit_intercept=True, max_iter=1000,\n",
              "      normalize=False, positive=False, precompute=False, random_state=None,\n",
              "      selection='cyclic', tol=0.0001, warm_start=False)"
            ]
          },
          "metadata": {
            "tags": []
          },
          "execution_count": 92
        }
      ]
    },
    {
      "cell_type": "markdown",
      "metadata": {
        "id": "GTz1MXpG5zic",
        "colab_type": "text"
      },
      "source": [
        "### Predict the three models"
      ]
    },
    {
      "cell_type": "code",
      "metadata": {
        "id": "YVNhqQPp51rv",
        "colab_type": "code",
        "colab": {
          "base_uri": "https://localhost:8080/",
          "height": 235
        },
        "outputId": "c0c872ac-f436-4350-e58b-bd1af144573b"
      },
      "source": [
        "last_date = df.iloc[-1].name\n",
        "last_unit_date = last_date\n",
        "next_unit_date = last_unit_date + datetime.timedelta(days=1)\n",
        "\n",
        "forecast_lnr = lnr.predict(X_test)\n",
        "forecast_rdg = rdg.predict(X_test)\n",
        "forecast_lasso = lasso.predict(X_test)\n",
        "\n",
        "df_reg['Forecast LNR'] = np.nan\n",
        "df_reg['Forecast RDG'] = np.nan\n",
        "df_reg['Forecast LASSO'] = np.nan\n",
        "\n",
        "# Add the values to the respective column\n",
        "for i in forecast_lnr:\n",
        "    next_date = next_unit_date\n",
        "    next_unit_date += datetime.timedelta(days=1)\n",
        "    df_reg.loc[next_date] = [np.nan for _ in range(len(df_reg.columns))]\n",
        "    df_reg['Forecast LNR'].loc[next_date] = i\n",
        "    \n",
        "next_unit_date = last_unit_date + datetime.timedelta(days=1)\n",
        "for i in forecast_rdg:\n",
        "    next_date = next_unit_date\n",
        "    next_unit_date += datetime.timedelta(days=1)\n",
        "    df_reg['Forecast RDG'].loc[next_date] = i\n",
        "    \n",
        "next_unit_date = last_unit_date + datetime.timedelta(days=1)\n",
        "for i in forecast_lasso:\n",
        "    next_date = next_unit_date\n",
        "    next_unit_date += datetime.timedelta(days=1)\n",
        "    df_reg['Forecast LASSO'].loc[next_date] = i\n",
        "    \n",
        "df_reg.tail()"
      ],
      "execution_count": 186,
      "outputs": [
        {
          "output_type": "execute_result",
          "data": {
            "text/html": [
              "<div>\n",
              "<style scoped>\n",
              "    .dataframe tbody tr th:only-of-type {\n",
              "        vertical-align: middle;\n",
              "    }\n",
              "\n",
              "    .dataframe tbody tr th {\n",
              "        vertical-align: top;\n",
              "    }\n",
              "\n",
              "    .dataframe thead th {\n",
              "        text-align: right;\n",
              "    }\n",
              "</style>\n",
              "<table border=\"1\" class=\"dataframe\">\n",
              "  <thead>\n",
              "    <tr style=\"text-align: right;\">\n",
              "      <th></th>\n",
              "      <th>Adj Close</th>\n",
              "      <th>Volume</th>\n",
              "      <th>HL_PCT</th>\n",
              "      <th>PCT_change</th>\n",
              "      <th>Forecast LNR</th>\n",
              "      <th>Forecast RDG</th>\n",
              "      <th>Forecast LASSO</th>\n",
              "    </tr>\n",
              "    <tr>\n",
              "      <th>Date</th>\n",
              "      <th></th>\n",
              "      <th></th>\n",
              "      <th></th>\n",
              "      <th></th>\n",
              "      <th></th>\n",
              "      <th></th>\n",
              "      <th></th>\n",
              "    </tr>\n",
              "  </thead>\n",
              "  <tbody>\n",
              "    <tr>\n",
              "      <th>2019-09-24</th>\n",
              "      <td>NaN</td>\n",
              "      <td>NaN</td>\n",
              "      <td>NaN</td>\n",
              "      <td>NaN</td>\n",
              "      <td>22.540630</td>\n",
              "      <td>22.538695</td>\n",
              "      <td>22.370293</td>\n",
              "    </tr>\n",
              "    <tr>\n",
              "      <th>2019-09-25</th>\n",
              "      <td>NaN</td>\n",
              "      <td>NaN</td>\n",
              "      <td>NaN</td>\n",
              "      <td>NaN</td>\n",
              "      <td>22.130585</td>\n",
              "      <td>22.128717</td>\n",
              "      <td>21.945038</td>\n",
              "    </tr>\n",
              "    <tr>\n",
              "      <th>2019-09-26</th>\n",
              "      <td>NaN</td>\n",
              "      <td>NaN</td>\n",
              "      <td>NaN</td>\n",
              "      <td>NaN</td>\n",
              "      <td>22.104617</td>\n",
              "      <td>22.103303</td>\n",
              "      <td>22.105690</td>\n",
              "    </tr>\n",
              "    <tr>\n",
              "      <th>2019-09-27</th>\n",
              "      <td>NaN</td>\n",
              "      <td>NaN</td>\n",
              "      <td>NaN</td>\n",
              "      <td>NaN</td>\n",
              "      <td>21.938938</td>\n",
              "      <td>21.937700</td>\n",
              "      <td>21.926138</td>\n",
              "    </tr>\n",
              "    <tr>\n",
              "      <th>2019-09-28</th>\n",
              "      <td>NaN</td>\n",
              "      <td>NaN</td>\n",
              "      <td>NaN</td>\n",
              "      <td>NaN</td>\n",
              "      <td>21.389136</td>\n",
              "      <td>21.387684</td>\n",
              "      <td>21.264628</td>\n",
              "    </tr>\n",
              "  </tbody>\n",
              "</table>\n",
              "</div>"
            ],
            "text/plain": [
              "            Adj Close  Volume  ...  Forecast RDG  Forecast LASSO\n",
              "Date                           ...                              \n",
              "2019-09-24        NaN     NaN  ...     22.538695       22.370293\n",
              "2019-09-25        NaN     NaN  ...     22.128717       21.945038\n",
              "2019-09-26        NaN     NaN  ...     22.103303       22.105690\n",
              "2019-09-27        NaN     NaN  ...     21.937700       21.926138\n",
              "2019-09-28        NaN     NaN  ...     21.387684       21.264628\n",
              "\n",
              "[5 rows x 7 columns]"
            ]
          },
          "metadata": {
            "tags": []
          },
          "execution_count": 186
        }
      ]
    },
    {
      "cell_type": "markdown",
      "metadata": {
        "id": "Ro2WvLTb6aOh",
        "colab_type": "text"
      },
      "source": [
        "### Evaluation "
      ]
    },
    {
      "cell_type": "code",
      "metadata": {
        "id": "hpZGNsGs6wbT",
        "colab_type": "code",
        "colab": {}
      },
      "source": [
        "# Find the confidence in each model\n",
        "Y_test = df_reg['Adj Close']\n",
        "\n",
        "_, X_test_lnr, _, Y_test_lnr = train_test_split(X, Y_test[:-forecast_data])\n",
        "_, X_test_rdg, _, Y_test_rdg = train_test_split(X, Y_test[:-forecast_data])\n",
        "_, X_test_lasso, _, Y_test_lasso = train_test_split(X, Y_test[:-forecast_data])\n",
        "\n",
        "score_lnr = lnr.score(X_test_lnr, Y_test_lnr)\n",
        "score_rdg = rdg.score(X_test_rdg, Y_test_rdg)\n",
        "score_lasso = lasso.score(X_test_lasso, Y_test_lasso)\n",
        "\n",
        "# Select the model with the best confidence\n",
        "if (score_lnr >= score_rdg and score_lnr >= score_lasso):\n",
        "    method = 'Forecast LNR'\n",
        "elif (score_rdg >= score_lnr and score_rdg >= score_lasso):\n",
        "    method = 'Forecast RDG'\n",
        "else:\n",
        "    method = 'Forecast LASSO'"
      ],
      "execution_count": 0,
      "outputs": []
    },
    {
      "cell_type": "markdown",
      "metadata": {
        "id": "tgOcsDG7akEf",
        "colab_type": "text"
      },
      "source": [
        "## Plotting"
      ]
    },
    {
      "cell_type": "code",
      "metadata": {
        "id": "bsPy-6jiarZX",
        "colab_type": "code",
        "colab": {
          "base_uri": "https://localhost:8080/",
          "height": 281
        },
        "outputId": "f8b30129-d4af-45b4-a80a-331e731f3583"
      },
      "source": [
        "# Plot the values\n",
        "# The blue line is for the actual price and the orange is the predicted price\n",
        "# for the next 1% of the calculated time\n",
        "plt.figure()\n",
        "df_reg['Adj Close'].tail(150).plot()\n",
        "df_reg[method].tail(150).plot()\n",
        "plt.legend(loc=3)\n",
        "plt.xlabel('Date')\n",
        "plt.ylabel('Price')\n",
        "plt.show()"
      ],
      "execution_count": 189,
      "outputs": [
        {
          "output_type": "display_data",
          "data": {
            "image/png": "[encoded data removed]",
            "text/plain": [
              "<Figure size 432x288 with 1 Axes>"
            ]
          },
          "metadata": {
            "tags": []
          }
        }
      ]
    }
  ]
}